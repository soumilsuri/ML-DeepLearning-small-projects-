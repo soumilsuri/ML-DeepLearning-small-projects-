{
  "nbformat": 4,
  "nbformat_minor": 0,
  "metadata": {
    "colab": {
      "provenance": [],
      "gpuType": "T4",
      "authorship_tag": "ABX9TyO7aJi0iNCf9nGLtZzGHqlD",
      "include_colab_link": true
    },
    "kernelspec": {
      "name": "python3",
      "display_name": "Python 3"
    },
    "language_info": {
      "name": "python"
    },
    "accelerator": "GPU"
  },
  "cells": [
    {
      "cell_type": "markdown",
      "metadata": {
        "id": "view-in-github",
        "colab_type": "text"
      },
      "source": [
        "<a href=\"https://colab.research.google.com/github/soumilsuri/ML-DeepLearning-small-projects-/blob/main/cifar10_CNN.ipynb\" target=\"_parent\"><img src=\"https://colab.research.google.com/assets/colab-badge.svg\" alt=\"Open In Colab\"/></a>"
      ]
    },
    {
      "cell_type": "code",
      "execution_count": 1,
      "metadata": {
        "id": "QzAJQNqjb7Bh"
      },
      "outputs": [],
      "source": [
        "import tensorflow as tf\n",
        "from tensorflow.keras import datasets, layers, models\n",
        "import matplotlib.pyplot as plt\n",
        "import numpy as np"
      ]
    },
    {
      "cell_type": "code",
      "source": [
        "(X_train, y_train), (X_test,y_test) = datasets.cifar10.load_data()\n",
        "X_train.shape"
      ],
      "metadata": {
        "colab": {
          "base_uri": "https://localhost:8080/"
        },
        "id": "0IvCtAfpcFKV",
        "outputId": "1f64c3dc-02b2-4d61-eb7b-3386207345f7"
      },
      "execution_count": 2,
      "outputs": [
        {
          "output_type": "stream",
          "name": "stdout",
          "text": [
            "Downloading data from https://www.cs.toronto.edu/~kriz/cifar-10-python.tar.gz\n",
            "170498071/170498071 [==============================] - 11s 0us/step\n"
          ]
        },
        {
          "output_type": "execute_result",
          "data": {
            "text/plain": [
              "(50000, 32, 32, 3)"
            ]
          },
          "metadata": {},
          "execution_count": 2
        }
      ]
    },
    {
      "cell_type": "code",
      "source": [
        "X_test.shape"
      ],
      "metadata": {
        "colab": {
          "base_uri": "https://localhost:8080/"
        },
        "id": "5JIPknoEcQ09",
        "outputId": "cae5edd2-fbea-4ec1-c500-763348f6719b"
      },
      "execution_count": 3,
      "outputs": [
        {
          "output_type": "execute_result",
          "data": {
            "text/plain": [
              "(10000, 32, 32, 3)"
            ]
          },
          "metadata": {},
          "execution_count": 3
        }
      ]
    },
    {
      "cell_type": "code",
      "source": [
        "y_train.shape"
      ],
      "metadata": {
        "colab": {
          "base_uri": "https://localhost:8080/"
        },
        "id": "NC4jKJEXcVSO",
        "outputId": "eab7a923-f7da-4ec7-c04a-b6a4da7b1e49"
      },
      "execution_count": 4,
      "outputs": [
        {
          "output_type": "execute_result",
          "data": {
            "text/plain": [
              "(50000, 1)"
            ]
          },
          "metadata": {},
          "execution_count": 4
        }
      ]
    },
    {
      "cell_type": "code",
      "source": [
        "y_train[:5]"
      ],
      "metadata": {
        "colab": {
          "base_uri": "https://localhost:8080/"
        },
        "id": "55wjjkKscY4V",
        "outputId": "35868f3e-9447-415a-f985-6635fe03a27f"
      },
      "execution_count": 5,
      "outputs": [
        {
          "output_type": "execute_result",
          "data": {
            "text/plain": [
              "array([[6],\n",
              "       [9],\n",
              "       [9],\n",
              "       [4],\n",
              "       [1]], dtype=uint8)"
            ]
          },
          "metadata": {},
          "execution_count": 5
        }
      ]
    },
    {
      "cell_type": "code",
      "source": [
        "y_train.reshape(-1)"
      ],
      "metadata": {
        "colab": {
          "base_uri": "https://localhost:8080/"
        },
        "id": "lc3cEdG9cmCV",
        "outputId": "58f2eba3-5dc4-4b78-9e31-3dac0715aba0"
      },
      "execution_count": 8,
      "outputs": [
        {
          "output_type": "execute_result",
          "data": {
            "text/plain": [
              "array([6, 9, 9, ..., 9, 1, 1], dtype=uint8)"
            ]
          },
          "metadata": {},
          "execution_count": 8
        }
      ]
    },
    {
      "cell_type": "code",
      "source": [
        "def plot(i):\n",
        "    plt.figure(figsize=(15,2))\n",
        "    plt.imshow(i)\n",
        "plot(X_train[0])"
      ],
      "metadata": {
        "colab": {
          "base_uri": "https://localhost:8080/",
          "height": 217
        },
        "id": "Zf2mkdJScdS5",
        "outputId": "0f43aad6-60cf-42f2-ef41-51d6bb956f0e"
      },
      "execution_count": 10,
      "outputs": [
        {
          "output_type": "display_data",
          "data": {
            "text/plain": [
              "<Figure size 1500x200 with 1 Axes>"
            ],
            "image/png": "[encoded data removed]"
          },
          "metadata": {}
        }
      ]
    },
    {
      "cell_type": "code",
      "source": [
        "X_train = X_train / 255.0\n",
        "X_test = X_test / 255.0"
      ],
      "metadata": {
        "id": "5a_MfIyBdaGd"
      },
      "execution_count": 11,
      "outputs": []
    },
    {
      "cell_type": "code",
      "source": [
        "from tensorflow.keras.callbacks import EarlyStopping\n",
        "\n",
        "# Define the early stopping callback\n",
        "early_stopping = EarlyStopping(monitor='val_accuracy', patience=5, mode='max', verbose=1)"
      ],
      "metadata": {
        "id": "CP43btIhj8M2"
      },
      "execution_count": 27,
      "outputs": []
    },
    {
      "cell_type": "code",
      "source": [
        "CNN=models.Sequential([\n",
        "    layers.Conv2D(filters=32,kernel_size=(3,3),activation='relu',input_shape=(32,32,3)),\n",
        "    layers.MaxPool2D(pool_size=(2, 2),),\n",
        "    layers.Conv2D(filters=64,kernel_size=(3,3),activation='relu'),\n",
        "    layers.MaxPool2D(pool_size=(2, 2),),\n",
        "\n",
        "    layers.Flatten(),\n",
        "    layers.Dense(64, activation='relu'),\n",
        "    layers.Dense(10, activation='softmax')\n",
        "])\n",
        "CNN.compile(\n",
        "    optimizer='adam',\n",
        "    loss='sparse_categorical_crossentropy',\n",
        "    metrics=['accuracy']\n",
        ")\n",
        "history=CNN.fit(X_train,y_train,validation_data=(X_test, y_test),epochs=100,verbose=1,callbacks=[early_stopping])"
      ],
      "metadata": {
        "colab": {
          "base_uri": "https://localhost:8080/"
        },
        "id": "g-MYVDoRdhvN",
        "outputId": "0fd5a6a0-0022-4e75-eee8-5da4f1d78d99"
      },
      "execution_count": 29,
      "outputs": [
        {
          "output_type": "stream",
          "name": "stdout",
          "text": [
            "Epoch 1/100\n",
            "1563/1563 [==============================] - 9s 5ms/step - loss: 1.5140 - accuracy: 0.4536 - val_loss: 1.2306 - val_accuracy: 0.5672\n",
            "Epoch 2/100\n",
            "1563/1563 [==============================] - 6s 4ms/step - loss: 1.1423 - accuracy: 0.5992 - val_loss: 1.0957 - val_accuracy: 0.6120\n",
            "Epoch 3/100\n",
            "1563/1563 [==============================] - 8s 5ms/step - loss: 1.0086 - accuracy: 0.6468 - val_loss: 0.9997 - val_accuracy: 0.6496\n",
            "Epoch 4/100\n",
            "1563/1563 [==============================] - 7s 4ms/step - loss: 0.9236 - accuracy: 0.6789 - val_loss: 0.9523 - val_accuracy: 0.6678\n",
            "Epoch 5/100\n",
            "1563/1563 [==============================] - 7s 4ms/step - loss: 0.8619 - accuracy: 0.7014 - val_loss: 0.9275 - val_accuracy: 0.6748\n",
            "Epoch 6/100\n",
            "1563/1563 [==============================] - 7s 5ms/step - loss: 0.8163 - accuracy: 0.7148 - val_loss: 0.9227 - val_accuracy: 0.6856\n",
            "Epoch 7/100\n",
            "1563/1563 [==============================] - 7s 4ms/step - loss: 0.7645 - accuracy: 0.7337 - val_loss: 0.9512 - val_accuracy: 0.6835\n",
            "Epoch 8/100\n",
            "1563/1563 [==============================] - 8s 5ms/step - loss: 0.7296 - accuracy: 0.7467 - val_loss: 0.8927 - val_accuracy: 0.6959\n",
            "Epoch 9/100\n",
            "1563/1563 [==============================] - 6s 4ms/step - loss: 0.6955 - accuracy: 0.7568 - val_loss: 0.9262 - val_accuracy: 0.6925\n",
            "Epoch 10/100\n",
            "1563/1563 [==============================] - 7s 5ms/step - loss: 0.6634 - accuracy: 0.7693 - val_loss: 0.9146 - val_accuracy: 0.6925\n",
            "Epoch 11/100\n",
            "1563/1563 [==============================] - 6s 4ms/step - loss: 0.6299 - accuracy: 0.7809 - val_loss: 0.9056 - val_accuracy: 0.7020\n",
            "Epoch 12/100\n",
            "1563/1563 [==============================] - 7s 5ms/step - loss: 0.6019 - accuracy: 0.7897 - val_loss: 0.9374 - val_accuracy: 0.6907\n",
            "Epoch 13/100\n",
            "1563/1563 [==============================] - 6s 4ms/step - loss: 0.5757 - accuracy: 0.7981 - val_loss: 0.9235 - val_accuracy: 0.7040\n",
            "Epoch 14/100\n",
            "1563/1563 [==============================] - 7s 5ms/step - loss: 0.5487 - accuracy: 0.8084 - val_loss: 0.9617 - val_accuracy: 0.6946\n",
            "Epoch 15/100\n",
            "1563/1563 [==============================] - 6s 4ms/step - loss: 0.5257 - accuracy: 0.8169 - val_loss: 0.9877 - val_accuracy: 0.6958\n",
            "Epoch 16/100\n",
            "1563/1563 [==============================] - 8s 5ms/step - loss: 0.5074 - accuracy: 0.8208 - val_loss: 1.0053 - val_accuracy: 0.6885\n",
            "Epoch 17/100\n",
            "1563/1563 [==============================] - 7s 4ms/step - loss: 0.4793 - accuracy: 0.8315 - val_loss: 1.0318 - val_accuracy: 0.6978\n",
            "Epoch 18/100\n",
            "1563/1563 [==============================] - 8s 5ms/step - loss: 0.4593 - accuracy: 0.8385 - val_loss: 1.0347 - val_accuracy: 0.6935\n",
            "Epoch 18: early stopping\n"
          ]
        }
      ]
    },
    {
      "cell_type": "code",
      "source": [
        "CNN.evaluate(X_test,y_test)"
      ],
      "metadata": {
        "colab": {
          "base_uri": "https://localhost:8080/"
        },
        "id": "HK6RKpH5dhx7",
        "outputId": "07756b01-5794-4c88-e4de-346f112a17f4"
      },
      "execution_count": 30,
      "outputs": [
        {
          "output_type": "stream",
          "name": "stdout",
          "text": [
            "313/313 [==============================] - 1s 2ms/step - loss: 1.0347 - accuracy: 0.6935\n"
          ]
        },
        {
          "output_type": "execute_result",
          "data": {
            "text/plain": [
              "[1.034727692604065, 0.6934999823570251]"
            ]
          },
          "metadata": {},
          "execution_count": 30
        }
      ]
    },
    {
      "cell_type": "code",
      "source": [
        "from sklearn.metrics import confusion_matrix , classification_report\n",
        "import numpy as np\n",
        "y_pred = CNN.predict(X_test)\n",
        "y_pred_classes = [np.argmax(element) for element in y_pred]\n",
        "\n",
        "print(\"Classification Report: \\n\", classification_report(y_test, y_pred_classes))"
      ],
      "metadata": {
        "colab": {
          "base_uri": "https://localhost:8080/"
        },
        "id": "sK7hlLb9dh00",
        "outputId": "353d693b-b0e6-4ec1-b521-9079ecef8d41"
      },
      "execution_count": 31,
      "outputs": [
        {
          "output_type": "stream",
          "name": "stdout",
          "text": [
            "313/313 [==============================] - 1s 2ms/step\n",
            "Classification Report: \n",
            "               precision    recall  f1-score   support\n",
            "\n",
            "           0       0.69      0.76      0.72      1000\n",
            "           1       0.75      0.85      0.80      1000\n",
            "           2       0.57      0.59      0.58      1000\n",
            "           3       0.52      0.49      0.51      1000\n",
            "           4       0.68      0.61      0.64      1000\n",
            "           5       0.63      0.56      0.60      1000\n",
            "           6       0.72      0.79      0.75      1000\n",
            "           7       0.74      0.74      0.74      1000\n",
            "           8       0.80      0.80      0.80      1000\n",
            "           9       0.81      0.73      0.77      1000\n",
            "\n",
            "    accuracy                           0.69     10000\n",
            "   macro avg       0.69      0.69      0.69     10000\n",
            "weighted avg       0.69      0.69      0.69     10000\n",
            "\n"
          ]
        }
      ]
    },
    {
      "cell_type": "code",
      "source": [],
      "metadata": {
        "id": "uoVOxjLZi7BZ"
      },
      "execution_count": null,
      "outputs": []
    }
  ]
}