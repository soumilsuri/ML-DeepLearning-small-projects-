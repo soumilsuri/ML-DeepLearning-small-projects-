{
  "nbformat": 4,
  "nbformat_minor": 0,
  "metadata": {
    "colab": {
      "provenance": [],
      "gpuType": "T4",
      "authorship_tag": "ABX9TyPJ/Gxq9tJCj2Et8GFzH4P7",
      "include_colab_link": true
    },
    "kernelspec": {
      "name": "python3",
      "display_name": "Python 3"
    },
    "language_info": {
      "name": "python"
    },
    "accelerator": "GPU"
  },
  "cells": [
    {
      "cell_type": "markdown",
      "metadata": {
        "id": "view-in-github",
        "colab_type": "text"
      },
      "source": [
        "<a href=\"https://colab.research.google.com/github/soumilsuri/ML-DeepLearning-small-projects-/blob/main/NN_Regression_Tensorflow.ipynb\" target=\"_parent\"><img src=\"https://colab.research.google.com/assets/colab-badge.svg\" alt=\"Open In Colab\"/></a>"
      ]
    },
    {
      "cell_type": "code",
      "execution_count": 1,
      "metadata": {
        "colab": {
          "base_uri": "https://localhost:8080/",
          "height": 36
        },
        "id": "7-WKjmM1DoXt",
        "outputId": "8d8f2868-2057-4187-bab5-8292505125e9"
      },
      "outputs": [
        {
          "output_type": "execute_result",
          "data": {
            "text/plain": [
              "'2.15.0'"
            ],
            "application/vnd.google.colaboratory.intrinsic+json": {
              "type": "string"
            }
          },
          "metadata": {},
          "execution_count": 1
        }
      ],
      "source": [
        "import tensorflow as tf\n",
        "tf.__version__"
      ]
    },
    {
      "cell_type": "code",
      "source": [
        "import numpy as np\n",
        "import matplotlib.pyplot as plt\n",
        "X=np.arange(-100,100,2)\n",
        "y=X+10\n",
        "print(X.shape)\n",
        "print(y.shape)"
      ],
      "metadata": {
        "colab": {
          "base_uri": "https://localhost:8080/"
        },
        "id": "11slXkdGEIct",
        "outputId": "00f1f74b-af71-492a-d6d2-69b18cf6e19f"
      },
      "execution_count": 2,
      "outputs": [
        {
          "output_type": "stream",
          "name": "stdout",
          "text": [
            "(100,)\n",
            "(100,)\n"
          ]
        }
      ]
    },
    {
      "cell_type": "code",
      "source": [
        "X_train=X[:80]\n",
        "X_test=X[80:]\n",
        "y_train=y[:80]\n",
        "y_test=y[80:]"
      ],
      "metadata": {
        "id": "1DTNheOcFCvo"
      },
      "execution_count": 3,
      "outputs": []
    },
    {
      "cell_type": "code",
      "source": [
        "def plot():\n",
        "    plt.figure(figsize=(10,6))\n",
        "    plt.scatter(X_train,y_train,c='b',label='training data')\n",
        "    plt.scatter(X_test,y_test,c='g',label='testing data')\n",
        "    # plt.scatter(X_test,y_preds,c='g',label='result data')\n",
        "    plt.legend();\n",
        "plot()"
      ],
      "metadata": {
        "colab": {
          "base_uri": "https://localhost:8080/",
          "height": 522
        },
        "id": "4rViPoAyFfof",
        "outputId": "1f5d0f88-df77-448b-835f-b0884fc1e8f3"
      },
      "execution_count": 4,
      "outputs": [
        {
          "output_type": "display_data",
          "data": {
            "text/plain": [
              "<Figure size 1000x600 with 1 Axes>"
            ],
            "image/png": "[encoded data removed]"
          },
          "metadata": {}
        }
      ]
    },
    {
      "cell_type": "code",
      "source": [
        "np.random.seed(42)\n",
        "model1=tf.keras.Sequential([\n",
        "    tf.keras.layers.Dense(1,input_shape=[1]),\n",
        "    tf.keras.layers.Dense(1)\n",
        "])\n",
        "model1.compile(loss=tf.keras.losses.mae,\n",
        "               optimizer=tf.keras.optimizers.SGD(),\n",
        "               metrics=['mae'])\n",
        "model1.fit(X_train,y_train,epochs=100,verbose=2)\n",
        "y_preds=model1.predict(X_test)"
      ],
      "metadata": {
        "colab": {
          "base_uri": "https://localhost:8080/"
        },
        "id": "PiP05atjGgCH",
        "outputId": "f82d968d-ba83-4688-bb1b-0d875e1011cc"
      },
      "execution_count": 5,
      "outputs": [
        {
          "output_type": "stream",
          "name": "stdout",
          "text": [
            "Epoch 1/100\n",
            "3/3 - 1s - loss: 22.8393 - mae: 22.8393 - 710ms/epoch - 237ms/step\n",
            "Epoch 2/100\n",
            "3/3 - 0s - loss: 14.5776 - mae: 14.5776 - 11ms/epoch - 4ms/step\n",
            "Epoch 3/100\n",
            "3/3 - 0s - loss: 14.4143 - mae: 14.4143 - 10ms/epoch - 3ms/step\n",
            "Epoch 4/100\n",
            "3/3 - 0s - loss: 18.6919 - mae: 18.6919 - 11ms/epoch - 4ms/step\n",
            "Epoch 5/100\n",
            "3/3 - 0s - loss: 18.9392 - mae: 18.9392 - 11ms/epoch - 4ms/step\n",
            "Epoch 6/100\n",
            "3/3 - 0s - loss: 14.2556 - mae: 14.2556 - 12ms/epoch - 4ms/step\n",
            "Epoch 7/100\n",
            "3/3 - 0s - loss: 15.5091 - mae: 15.5091 - 10ms/epoch - 3ms/step\n",
            "Epoch 8/100\n",
            "3/3 - 0s - loss: 11.8512 - mae: 11.8512 - 11ms/epoch - 4ms/step\n",
            "Epoch 9/100\n",
            "3/3 - 0s - loss: 16.6517 - mae: 16.6517 - 10ms/epoch - 3ms/step\n",
            "Epoch 10/100\n",
            "3/3 - 0s - loss: 15.9980 - mae: 15.9980 - 11ms/epoch - 4ms/step\n",
            "Epoch 11/100\n",
            "3/3 - 0s - loss: 16.8410 - mae: 16.8410 - 10ms/epoch - 3ms/step\n",
            "Epoch 12/100\n",
            "3/3 - 0s - loss: 12.6622 - mae: 12.6622 - 11ms/epoch - 4ms/step\n",
            "Epoch 13/100\n",
            "3/3 - 0s - loss: 14.7620 - mae: 14.7620 - 11ms/epoch - 4ms/step\n",
            "Epoch 14/100\n",
            "3/3 - 0s - loss: 10.7477 - mae: 10.7477 - 11ms/epoch - 4ms/step\n",
            "Epoch 15/100\n",
            "3/3 - 0s - loss: 15.1289 - mae: 15.1289 - 11ms/epoch - 4ms/step\n",
            "Epoch 16/100\n",
            "3/3 - 0s - loss: 11.1906 - mae: 11.1906 - 12ms/epoch - 4ms/step\n",
            "Epoch 17/100\n",
            "3/3 - 0s - loss: 14.5352 - mae: 14.5352 - 11ms/epoch - 4ms/step\n",
            "Epoch 18/100\n",
            "3/3 - 0s - loss: 14.7877 - mae: 14.7877 - 11ms/epoch - 4ms/step\n",
            "Epoch 19/100\n",
            "3/3 - 0s - loss: 13.1609 - mae: 13.1609 - 11ms/epoch - 4ms/step\n",
            "Epoch 20/100\n",
            "3/3 - 0s - loss: 18.2911 - mae: 18.2911 - 13ms/epoch - 4ms/step\n",
            "Epoch 21/100\n",
            "3/3 - 0s - loss: 18.0959 - mae: 18.0959 - 11ms/epoch - 4ms/step\n",
            "Epoch 22/100\n",
            "3/3 - 0s - loss: 11.6249 - mae: 11.6249 - 10ms/epoch - 3ms/step\n",
            "Epoch 23/100\n",
            "3/3 - 0s - loss: 14.4704 - mae: 14.4704 - 10ms/epoch - 3ms/step\n",
            "Epoch 24/100\n",
            "3/3 - 0s - loss: 16.6892 - mae: 16.6892 - 13ms/epoch - 4ms/step\n",
            "Epoch 25/100\n",
            "3/3 - 0s - loss: 12.9642 - mae: 12.9642 - 11ms/epoch - 4ms/step\n",
            "Epoch 26/100\n",
            "3/3 - 0s - loss: 13.5620 - mae: 13.5620 - 10ms/epoch - 3ms/step\n",
            "Epoch 27/100\n",
            "3/3 - 0s - loss: 14.7309 - mae: 14.7309 - 10ms/epoch - 3ms/step\n",
            "Epoch 28/100\n",
            "3/3 - 0s - loss: 16.7683 - mae: 16.7683 - 10ms/epoch - 3ms/step\n",
            "Epoch 29/100\n",
            "3/3 - 0s - loss: 13.1021 - mae: 13.1021 - 10ms/epoch - 3ms/step\n",
            "Epoch 30/100\n",
            "3/3 - 0s - loss: 10.7735 - mae: 10.7735 - 10ms/epoch - 3ms/step\n",
            "Epoch 31/100\n",
            "3/3 - 0s - loss: 15.8972 - mae: 15.8972 - 11ms/epoch - 4ms/step\n",
            "Epoch 32/100\n",
            "3/3 - 0s - loss: 17.0986 - mae: 17.0986 - 10ms/epoch - 3ms/step\n",
            "Epoch 33/100\n",
            "3/3 - 0s - loss: 9.1702 - mae: 9.1702 - 13ms/epoch - 4ms/step\n",
            "Epoch 34/100\n",
            "3/3 - 0s - loss: 18.7293 - mae: 18.7293 - 10ms/epoch - 3ms/step\n",
            "Epoch 35/100\n",
            "3/3 - 0s - loss: 14.3594 - mae: 14.3594 - 10ms/epoch - 3ms/step\n",
            "Epoch 36/100\n",
            "3/3 - 0s - loss: 12.0492 - mae: 12.0492 - 10ms/epoch - 3ms/step\n",
            "Epoch 37/100\n",
            "3/3 - 0s - loss: 17.0271 - mae: 17.0271 - 10ms/epoch - 3ms/step\n",
            "Epoch 38/100\n",
            "3/3 - 0s - loss: 15.9883 - mae: 15.9883 - 10ms/epoch - 3ms/step\n",
            "Epoch 39/100\n",
            "3/3 - 0s - loss: 14.4830 - mae: 14.4830 - 11ms/epoch - 4ms/step\n",
            "Epoch 40/100\n",
            "3/3 - 0s - loss: 14.0543 - mae: 14.0543 - 11ms/epoch - 4ms/step\n",
            "Epoch 41/100\n",
            "3/3 - 0s - loss: 16.3167 - mae: 16.3167 - 11ms/epoch - 4ms/step\n",
            "Epoch 42/100\n",
            "3/3 - 0s - loss: 11.4453 - mae: 11.4453 - 17ms/epoch - 6ms/step\n",
            "Epoch 43/100\n",
            "3/3 - 0s - loss: 19.8481 - mae: 19.8481 - 11ms/epoch - 4ms/step\n",
            "Epoch 44/100\n",
            "3/3 - 0s - loss: 12.8235 - mae: 12.8235 - 11ms/epoch - 4ms/step\n",
            "Epoch 45/100\n",
            "3/3 - 0s - loss: 17.5918 - mae: 17.5918 - 11ms/epoch - 4ms/step\n",
            "Epoch 46/100\n",
            "3/3 - 0s - loss: 17.3391 - mae: 17.3391 - 11ms/epoch - 4ms/step\n",
            "Epoch 47/100\n",
            "3/3 - 0s - loss: 12.4748 - mae: 12.4748 - 12ms/epoch - 4ms/step\n",
            "Epoch 48/100\n",
            "3/3 - 0s - loss: 13.4949 - mae: 13.4949 - 11ms/epoch - 4ms/step\n",
            "Epoch 49/100\n",
            "3/3 - 0s - loss: 15.1144 - mae: 15.1144 - 11ms/epoch - 4ms/step\n",
            "Epoch 50/100\n",
            "3/3 - 0s - loss: 15.8711 - mae: 15.8711 - 11ms/epoch - 4ms/step\n",
            "Epoch 51/100\n",
            "3/3 - 0s - loss: 10.1178 - mae: 10.1178 - 11ms/epoch - 4ms/step\n",
            "Epoch 52/100\n",
            "3/3 - 0s - loss: 10.8629 - mae: 10.8629 - 12ms/epoch - 4ms/step\n",
            "Epoch 53/100\n",
            "3/3 - 0s - loss: 11.8522 - mae: 11.8522 - 11ms/epoch - 4ms/step\n",
            "Epoch 54/100\n",
            "3/3 - 0s - loss: 11.8286 - mae: 11.8286 - 11ms/epoch - 4ms/step\n",
            "Epoch 55/100\n",
            "3/3 - 0s - loss: 16.9018 - mae: 16.9018 - 11ms/epoch - 4ms/step\n",
            "Epoch 56/100\n",
            "3/3 - 0s - loss: 14.3105 - mae: 14.3105 - 10ms/epoch - 3ms/step\n",
            "Epoch 57/100\n",
            "3/3 - 0s - loss: 14.0465 - mae: 14.0465 - 11ms/epoch - 4ms/step\n",
            "Epoch 58/100\n",
            "3/3 - 0s - loss: 16.0650 - mae: 16.0650 - 10ms/epoch - 3ms/step\n",
            "Epoch 59/100\n",
            "3/3 - 0s - loss: 12.2307 - mae: 12.2307 - 10ms/epoch - 3ms/step\n",
            "Epoch 60/100\n",
            "3/3 - 0s - loss: 18.3710 - mae: 18.3710 - 10ms/epoch - 3ms/step\n",
            "Epoch 61/100\n",
            "3/3 - 0s - loss: 10.6542 - mae: 10.6542 - 11ms/epoch - 4ms/step\n",
            "Epoch 62/100\n",
            "3/3 - 0s - loss: 9.1102 - mae: 9.1102 - 11ms/epoch - 4ms/step\n",
            "Epoch 63/100\n",
            "3/3 - 0s - loss: 18.1564 - mae: 18.1564 - 10ms/epoch - 3ms/step\n",
            "Epoch 64/100\n",
            "3/3 - 0s - loss: 12.7360 - mae: 12.7360 - 11ms/epoch - 4ms/step\n",
            "Epoch 65/100\n",
            "3/3 - 0s - loss: 15.4056 - mae: 15.4056 - 11ms/epoch - 4ms/step\n",
            "Epoch 66/100\n",
            "3/3 - 0s - loss: 14.6755 - mae: 14.6755 - 11ms/epoch - 4ms/step\n",
            "Epoch 67/100\n",
            "3/3 - 0s - loss: 11.0398 - mae: 11.0398 - 11ms/epoch - 4ms/step\n",
            "Epoch 68/100\n",
            "3/3 - 0s - loss: 14.7157 - mae: 14.7157 - 10ms/epoch - 3ms/step\n",
            "Epoch 69/100\n",
            "3/3 - 0s - loss: 15.5874 - mae: 15.5874 - 11ms/epoch - 4ms/step\n",
            "Epoch 70/100\n",
            "3/3 - 0s - loss: 15.7282 - mae: 15.7282 - 11ms/epoch - 4ms/step\n",
            "Epoch 71/100\n",
            "3/3 - 0s - loss: 9.5608 - mae: 9.5608 - 11ms/epoch - 4ms/step\n",
            "Epoch 72/100\n",
            "3/3 - 0s - loss: 12.1744 - mae: 12.1744 - 11ms/epoch - 4ms/step\n",
            "Epoch 73/100\n",
            "3/3 - 0s - loss: 17.5295 - mae: 17.5295 - 15ms/epoch - 5ms/step\n",
            "Epoch 74/100\n",
            "3/3 - 0s - loss: 19.2986 - mae: 19.2986 - 11ms/epoch - 4ms/step\n",
            "Epoch 75/100\n",
            "3/3 - 0s - loss: 15.5383 - mae: 15.5383 - 10ms/epoch - 3ms/step\n",
            "Epoch 76/100\n",
            "3/3 - 0s - loss: 14.2542 - mae: 14.2542 - 12ms/epoch - 4ms/step\n",
            "Epoch 77/100\n",
            "3/3 - 0s - loss: 11.6182 - mae: 11.6182 - 10ms/epoch - 3ms/step\n",
            "Epoch 78/100\n",
            "3/3 - 0s - loss: 18.4985 - mae: 18.4985 - 11ms/epoch - 4ms/step\n",
            "Epoch 79/100\n",
            "3/3 - 0s - loss: 14.0493 - mae: 14.0493 - 11ms/epoch - 4ms/step\n",
            "Epoch 80/100\n",
            "3/3 - 0s - loss: 12.3300 - mae: 12.3300 - 11ms/epoch - 4ms/step\n",
            "Epoch 81/100\n",
            "3/3 - 0s - loss: 16.3211 - mae: 16.3211 - 11ms/epoch - 4ms/step\n",
            "Epoch 82/100\n",
            "3/3 - 0s - loss: 12.7989 - mae: 12.7989 - 11ms/epoch - 4ms/step\n",
            "Epoch 83/100\n",
            "3/3 - 0s - loss: 12.4725 - mae: 12.4725 - 14ms/epoch - 5ms/step\n",
            "Epoch 84/100\n",
            "3/3 - 0s - loss: 22.4760 - mae: 22.4760 - 11ms/epoch - 4ms/step\n",
            "Epoch 85/100\n",
            "3/3 - 0s - loss: 8.9522 - mae: 8.9522 - 11ms/epoch - 4ms/step\n",
            "Epoch 86/100\n",
            "3/3 - 0s - loss: 16.3948 - mae: 16.3948 - 11ms/epoch - 4ms/step\n",
            "Epoch 87/100\n",
            "3/3 - 0s - loss: 13.6394 - mae: 13.6394 - 10ms/epoch - 3ms/step\n",
            "Epoch 88/100\n",
            "3/3 - 0s - loss: 12.4041 - mae: 12.4041 - 11ms/epoch - 4ms/step\n",
            "Epoch 89/100\n",
            "3/3 - 0s - loss: 15.8564 - mae: 15.8564 - 11ms/epoch - 4ms/step\n",
            "Epoch 90/100\n",
            "3/3 - 0s - loss: 13.7783 - mae: 13.7783 - 10ms/epoch - 3ms/step\n",
            "Epoch 91/100\n",
            "3/3 - 0s - loss: 14.4848 - mae: 14.4848 - 10ms/epoch - 3ms/step\n",
            "Epoch 92/100\n",
            "3/3 - 0s - loss: 10.8884 - mae: 10.8884 - 10ms/epoch - 3ms/step\n",
            "Epoch 93/100\n",
            "3/3 - 0s - loss: 15.4525 - mae: 15.4525 - 12ms/epoch - 4ms/step\n",
            "Epoch 94/100\n",
            "3/3 - 0s - loss: 16.0631 - mae: 16.0631 - 10ms/epoch - 3ms/step\n",
            "Epoch 95/100\n",
            "3/3 - 0s - loss: 21.0152 - mae: 21.0152 - 11ms/epoch - 4ms/step\n",
            "Epoch 96/100\n",
            "3/3 - 0s - loss: 14.1963 - mae: 14.1963 - 12ms/epoch - 4ms/step\n",
            "Epoch 97/100\n",
            "3/3 - 0s - loss: 15.1582 - mae: 15.1582 - 10ms/epoch - 3ms/step\n",
            "Epoch 98/100\n",
            "3/3 - 0s - loss: 11.9954 - mae: 11.9954 - 11ms/epoch - 4ms/step\n",
            "Epoch 99/100\n",
            "3/3 - 0s - loss: 13.3803 - mae: 13.3803 - 21ms/epoch - 7ms/step\n",
            "Epoch 100/100\n",
            "3/3 - 0s - loss: 16.4701 - mae: 16.4701 - 21ms/epoch - 7ms/step\n",
            "1/1 [==============================] - 0s 160ms/step\n"
          ]
        }
      ]
    },
    {
      "cell_type": "code",
      "source": [
        "def plot():\n",
        "    plt.figure(figsize=(10,6))\n",
        "    plt.scatter(X_train,y_train,c='b',label='training data')\n",
        "    plt.scatter(X_test,y_test,c='g',label='testing data')\n",
        "    plt.scatter(X_test,y_preds,c='r',label='result data')\n",
        "    plt.legend();\n",
        "plot()"
      ],
      "metadata": {
        "colab": {
          "base_uri": "https://localhost:8080/",
          "height": 522
        },
        "id": "51UsuSDIH9Tq",
        "outputId": "d1a1fe86-f1f4-4868-9cb4-9b9b221a828f"
      },
      "execution_count": 6,
      "outputs": [
        {
          "output_type": "display_data",
          "data": {
            "text/plain": [
              "<Figure size 1000x600 with 1 Axes>"
            ],
            "image/png": "[encoded data removed]"
          },
          "metadata": {}
        }
      ]
    },
    {
      "cell_type": "code",
      "source": [],
      "metadata": {
        "id": "2BvieJKoIdS4"
      },
      "execution_count": 6,
      "outputs": []
    }
  ]
}